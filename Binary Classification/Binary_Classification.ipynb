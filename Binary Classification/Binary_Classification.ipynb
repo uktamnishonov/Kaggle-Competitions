{
 "cells": [
  {
   "cell_type": "code",
   "execution_count": 79,
   "id": "initial_id",
   "metadata": {
    "collapsed": true,
    "ExecuteTime": {
     "end_time": "2023-10-14T07:03:10.922398Z",
     "start_time": "2023-10-14T07:03:10.893484Z"
    }
   },
   "outputs": [],
   "source": [
    "import numpy as np\n",
    "import pandas as pd\n",
    "import seaborn as sns\n",
    "import matplotlib.pyplot as plt\n",
    "%matplotlib inline"
   ]
  },
  {
   "cell_type": "code",
   "execution_count": 80,
   "outputs": [],
   "source": [
    "test = pd.read_csv('train.csv')"
   ],
   "metadata": {
    "collapsed": false,
    "ExecuteTime": {
     "end_time": "2023-10-14T07:03:11.509855Z",
     "start_time": "2023-10-14T07:03:11.255865Z"
    }
   },
   "id": "9d77a96fd61f4a89"
  },
  {
   "cell_type": "code",
   "execution_count": 81,
   "outputs": [
    {
     "data": {
      "text/plain": "            id    loc  v(g)  ev(g)  iv(g)      n        v     l      d      i  \\\n0            0   22.0   3.0    1.0    2.0   60.0   278.63  0.06  19.56  14.25   \n1            1   14.0   2.0    1.0    2.0   32.0   151.27  0.14   7.00  21.11   \n2            2   11.0   2.0    1.0    2.0   45.0   197.65  0.11   8.05  22.76   \n3            3    8.0   1.0    1.0    1.0   23.0    94.01  0.19   5.25  17.86   \n4            4   11.0   2.0    1.0    2.0   17.0    60.94  0.18   5.63  12.44   \n...        ...    ...   ...    ...    ...    ...      ...   ...    ...    ...   \n101758  101758   10.0   2.0    1.0    1.0   28.0   122.98  0.15   6.60  18.63   \n101759  101759   27.0   5.0    4.0    1.0  107.0   559.93  0.06  18.00  34.17   \n101760  101760   26.0   1.0    1.0    1.0   83.0   360.17  0.04  22.75  12.56   \n101761  101761   10.0   2.0    1.0    2.0   43.0   191.76  0.15   6.46  29.53   \n101762  101762  136.0  18.0   18.0    1.0  296.0  1704.57  0.02  44.82  44.08   \n\n        ...  lOCode  lOComment  lOBlank  locCodeAndComment  uniq_Op  \\\n0       ...      17          1        1                  0     16.0   \n1       ...      11          0        1                  0     11.0   \n2       ...       8          0        1                  0     12.0   \n3       ...       4          0        2                  0      8.0   \n4       ...       7          0        2                  0      7.0   \n...     ...     ...        ...      ...                ...      ...   \n101758  ...       7          0        1                  0     11.0   \n101759  ...      23          0        2                  0     18.0   \n101760  ...      20          0        4                  0     10.0   \n101761  ...       7          0        1                  0     11.0   \n101762  ...     102          1       11                  0     22.0   \n\n        uniq_Opnd  total_Op  total_Opnd  branchCount  defects  \n0             9.0      38.0        22.0          5.0    False  \n1            11.0      18.0        14.0          3.0    False  \n2            11.0      28.0        17.0          3.0    False  \n3             6.0      16.0         7.0          1.0     True  \n4             6.0      10.0        10.0          3.0    False  \n...           ...       ...         ...          ...      ...  \n101758        8.0      16.0        12.0          3.0    False  \n101759       20.0      67.0        40.0          9.0    False  \n101760        8.0      51.0        28.0          1.0    False  \n101761       14.0      24.0        19.0          3.0    False  \n101762       31.0     162.0       135.0         35.0    False  \n\n[101763 rows x 23 columns]",
      "text/html": "<div>\n<style scoped>\n    .dataframe tbody tr th:only-of-type {\n        vertical-align: middle;\n    }\n\n    .dataframe tbody tr th {\n        vertical-align: top;\n    }\n\n    .dataframe thead th {\n        text-align: right;\n    }\n</style>\n<table border=\"1\" class=\"dataframe\">\n  <thead>\n    <tr style=\"text-align: right;\">\n      <th></th>\n      <th>id</th>\n      <th>loc</th>\n      <th>v(g)</th>\n      <th>ev(g)</th>\n      <th>iv(g)</th>\n      <th>n</th>\n      <th>v</th>\n      <th>l</th>\n      <th>d</th>\n      <th>i</th>\n      <th>...</th>\n      <th>lOCode</th>\n      <th>lOComment</th>\n      <th>lOBlank</th>\n      <th>locCodeAndComment</th>\n      <th>uniq_Op</th>\n      <th>uniq_Opnd</th>\n      <th>total_Op</th>\n      <th>total_Opnd</th>\n      <th>branchCount</th>\n      <th>defects</th>\n    </tr>\n  </thead>\n  <tbody>\n    <tr>\n      <th>0</th>\n      <td>0</td>\n      <td>22.0</td>\n      <td>3.0</td>\n      <td>1.0</td>\n      <td>2.0</td>\n      <td>60.0</td>\n      <td>278.63</td>\n      <td>0.06</td>\n      <td>19.56</td>\n      <td>14.25</td>\n      <td>...</td>\n      <td>17</td>\n      <td>1</td>\n      <td>1</td>\n      <td>0</td>\n      <td>16.0</td>\n      <td>9.0</td>\n      <td>38.0</td>\n      <td>22.0</td>\n      <td>5.0</td>\n      <td>False</td>\n    </tr>\n    <tr>\n      <th>1</th>\n      <td>1</td>\n      <td>14.0</td>\n      <td>2.0</td>\n      <td>1.0</td>\n      <td>2.0</td>\n      <td>32.0</td>\n      <td>151.27</td>\n      <td>0.14</td>\n      <td>7.00</td>\n      <td>21.11</td>\n      <td>...</td>\n      <td>11</td>\n      <td>0</td>\n      <td>1</td>\n      <td>0</td>\n      <td>11.0</td>\n      <td>11.0</td>\n      <td>18.0</td>\n      <td>14.0</td>\n      <td>3.0</td>\n      <td>False</td>\n    </tr>\n    <tr>\n      <th>2</th>\n      <td>2</td>\n      <td>11.0</td>\n      <td>2.0</td>\n      <td>1.0</td>\n      <td>2.0</td>\n      <td>45.0</td>\n      <td>197.65</td>\n      <td>0.11</td>\n      <td>8.05</td>\n      <td>22.76</td>\n      <td>...</td>\n      <td>8</td>\n      <td>0</td>\n      <td>1</td>\n      <td>0</td>\n      <td>12.0</td>\n      <td>11.0</td>\n      <td>28.0</td>\n      <td>17.0</td>\n      <td>3.0</td>\n      <td>False</td>\n    </tr>\n    <tr>\n      <th>3</th>\n      <td>3</td>\n      <td>8.0</td>\n      <td>1.0</td>\n      <td>1.0</td>\n      <td>1.0</td>\n      <td>23.0</td>\n      <td>94.01</td>\n      <td>0.19</td>\n      <td>5.25</td>\n      <td>17.86</td>\n      <td>...</td>\n      <td>4</td>\n      <td>0</td>\n      <td>2</td>\n      <td>0</td>\n      <td>8.0</td>\n      <td>6.0</td>\n      <td>16.0</td>\n      <td>7.0</td>\n      <td>1.0</td>\n      <td>True</td>\n    </tr>\n    <tr>\n      <th>4</th>\n      <td>4</td>\n      <td>11.0</td>\n      <td>2.0</td>\n      <td>1.0</td>\n      <td>2.0</td>\n      <td>17.0</td>\n      <td>60.94</td>\n      <td>0.18</td>\n      <td>5.63</td>\n      <td>12.44</td>\n      <td>...</td>\n      <td>7</td>\n      <td>0</td>\n      <td>2</td>\n      <td>0</td>\n      <td>7.0</td>\n      <td>6.0</td>\n      <td>10.0</td>\n      <td>10.0</td>\n      <td>3.0</td>\n      <td>False</td>\n    </tr>\n    <tr>\n      <th>...</th>\n      <td>...</td>\n      <td>...</td>\n      <td>...</td>\n      <td>...</td>\n      <td>...</td>\n      <td>...</td>\n      <td>...</td>\n      <td>...</td>\n      <td>...</td>\n      <td>...</td>\n      <td>...</td>\n      <td>...</td>\n      <td>...</td>\n      <td>...</td>\n      <td>...</td>\n      <td>...</td>\n      <td>...</td>\n      <td>...</td>\n      <td>...</td>\n      <td>...</td>\n      <td>...</td>\n    </tr>\n    <tr>\n      <th>101758</th>\n      <td>101758</td>\n      <td>10.0</td>\n      <td>2.0</td>\n      <td>1.0</td>\n      <td>1.0</td>\n      <td>28.0</td>\n      <td>122.98</td>\n      <td>0.15</td>\n      <td>6.60</td>\n      <td>18.63</td>\n      <td>...</td>\n      <td>7</td>\n      <td>0</td>\n      <td>1</td>\n      <td>0</td>\n      <td>11.0</td>\n      <td>8.0</td>\n      <td>16.0</td>\n      <td>12.0</td>\n      <td>3.0</td>\n      <td>False</td>\n    </tr>\n    <tr>\n      <th>101759</th>\n      <td>101759</td>\n      <td>27.0</td>\n      <td>5.0</td>\n      <td>4.0</td>\n      <td>1.0</td>\n      <td>107.0</td>\n      <td>559.93</td>\n      <td>0.06</td>\n      <td>18.00</td>\n      <td>34.17</td>\n      <td>...</td>\n      <td>23</td>\n      <td>0</td>\n      <td>2</td>\n      <td>0</td>\n      <td>18.0</td>\n      <td>20.0</td>\n      <td>67.0</td>\n      <td>40.0</td>\n      <td>9.0</td>\n      <td>False</td>\n    </tr>\n    <tr>\n      <th>101760</th>\n      <td>101760</td>\n      <td>26.0</td>\n      <td>1.0</td>\n      <td>1.0</td>\n      <td>1.0</td>\n      <td>83.0</td>\n      <td>360.17</td>\n      <td>0.04</td>\n      <td>22.75</td>\n      <td>12.56</td>\n      <td>...</td>\n      <td>20</td>\n      <td>0</td>\n      <td>4</td>\n      <td>0</td>\n      <td>10.0</td>\n      <td>8.0</td>\n      <td>51.0</td>\n      <td>28.0</td>\n      <td>1.0</td>\n      <td>False</td>\n    </tr>\n    <tr>\n      <th>101761</th>\n      <td>101761</td>\n      <td>10.0</td>\n      <td>2.0</td>\n      <td>1.0</td>\n      <td>2.0</td>\n      <td>43.0</td>\n      <td>191.76</td>\n      <td>0.15</td>\n      <td>6.46</td>\n      <td>29.53</td>\n      <td>...</td>\n      <td>7</td>\n      <td>0</td>\n      <td>1</td>\n      <td>0</td>\n      <td>11.0</td>\n      <td>14.0</td>\n      <td>24.0</td>\n      <td>19.0</td>\n      <td>3.0</td>\n      <td>False</td>\n    </tr>\n    <tr>\n      <th>101762</th>\n      <td>101762</td>\n      <td>136.0</td>\n      <td>18.0</td>\n      <td>18.0</td>\n      <td>1.0</td>\n      <td>296.0</td>\n      <td>1704.57</td>\n      <td>0.02</td>\n      <td>44.82</td>\n      <td>44.08</td>\n      <td>...</td>\n      <td>102</td>\n      <td>1</td>\n      <td>11</td>\n      <td>0</td>\n      <td>22.0</td>\n      <td>31.0</td>\n      <td>162.0</td>\n      <td>135.0</td>\n      <td>35.0</td>\n      <td>False</td>\n    </tr>\n  </tbody>\n</table>\n<p>101763 rows × 23 columns</p>\n</div>"
     },
     "execution_count": 81,
     "metadata": {},
     "output_type": "execute_result"
    }
   ],
   "source": [
    "test"
   ],
   "metadata": {
    "collapsed": false,
    "ExecuteTime": {
     "end_time": "2023-10-14T07:03:14.878489Z",
     "start_time": "2023-10-14T07:03:14.814945Z"
    }
   },
   "id": "5aad5dd2abc9ace3"
  },
  {
   "cell_type": "code",
   "execution_count": 82,
   "outputs": [],
   "source": [
    "df = test.copy()"
   ],
   "metadata": {
    "collapsed": false,
    "ExecuteTime": {
     "end_time": "2023-10-14T07:03:15.140702Z",
     "start_time": "2023-10-14T07:03:15.112701Z"
    }
   },
   "id": "9f32d2ac25b5576b"
  },
  {
   "cell_type": "code",
   "execution_count": 83,
   "outputs": [
    {
     "data": {
      "text/plain": "Index(['id', 'loc', 'v(g)', 'ev(g)', 'iv(g)', 'n', 'v', 'l', 'd', 'i', 'e',\n       'b', 't', 'lOCode', 'lOComment', 'lOBlank', 'locCodeAndComment',\n       'uniq_Op', 'uniq_Opnd', 'total_Op', 'total_Opnd', 'branchCount',\n       'defects'],\n      dtype='object')"
     },
     "execution_count": 83,
     "metadata": {},
     "output_type": "execute_result"
    }
   ],
   "source": [
    "df.columns"
   ],
   "metadata": {
    "collapsed": false,
    "ExecuteTime": {
     "end_time": "2023-10-14T07:03:15.415175Z",
     "start_time": "2023-10-14T07:03:15.399844Z"
    }
   },
   "id": "6341a3834c047c2f"
  },
  {
   "cell_type": "code",
   "execution_count": 84,
   "outputs": [
    {
     "data": {
      "text/plain": "                  id            loc           v(g)          ev(g)  \\\ncount  101763.000000  101763.000000  101763.000000  101763.000000   \nmean    50881.000000      37.347160       5.492684       2.845022   \nstd     29376.592059      54.600401       7.900855       4.631262   \nmin         0.000000       1.000000       1.000000       1.000000   \n25%     25440.500000      13.000000       2.000000       1.000000   \n50%     50881.000000      22.000000       3.000000       1.000000   \n75%     76321.500000      42.000000       6.000000       3.000000   \nmax    101762.000000    3442.000000     404.000000     165.000000   \n\n               iv(g)              n              v              l  \\\ncount  101763.000000  101763.000000  101763.000000  101763.000000   \nmean        3.498826      96.655995     538.280956       0.111634   \nstd         5.534541     171.147191    1270.791601       0.100096   \nmin         1.000000       0.000000       0.000000       0.000000   \n25%         1.000000      25.000000      97.670000       0.050000   \n50%         2.000000      51.000000     232.790000       0.090000   \n75%         4.000000     111.000000     560.250000       0.150000   \nmax       402.000000    8441.000000   80843.080000       1.000000   \n\n                   d              i  ...              t         lOCode  \\\ncount  101763.000000  101763.000000  ...  101763.000000  101763.000000   \nmean       13.681881      27.573007  ...    1141.357982      22.802453   \nstd        14.121306      22.856742  ...    9862.795472      38.541010   \nmin         0.000000       0.000000  ...       0.000000       0.000000   \n25%         5.600000      15.560000  ...      31.380000       7.000000   \n50%         9.820000      23.360000  ...     125.400000      14.000000   \n75%        18.000000      34.340000  ...     565.920000      26.000000   \nmax       418.200000     569.780000  ...  935923.390000    2824.000000   \n\n           lOComment        lOBlank  locCodeAndComment        uniq_Op  \\\ncount  101763.000000  101763.000000      101763.000000  101763.000000   \nmean        1.773945       3.979865           0.196604      11.896131   \nstd         5.902412       6.382358           0.998906       6.749549   \nmin         0.000000       0.000000           0.000000       0.000000   \n25%         0.000000       1.000000           0.000000       8.000000   \n50%         0.000000       2.000000           0.000000      11.000000   \n75%         1.000000       5.000000           0.000000      16.000000   \nmax       344.000000     219.000000          43.000000     410.000000   \n\n           uniq_Opnd       total_Op     total_Opnd    branchCount  \ncount  101763.000000  101763.000000  101763.000000  101763.000000  \nmean       15.596671      57.628116      39.249698       9.839549  \nstd        18.064261     104.537660      71.692309      14.412769  \nmin         0.000000       0.000000       0.000000       1.000000  \n25%         7.000000      15.000000      10.000000       3.000000  \n50%        12.000000      30.000000      20.000000       5.000000  \n75%        20.000000      66.000000      45.000000      11.000000  \nmax      1026.000000    5420.000000    3021.000000     503.000000  \n\n[8 rows x 22 columns]",
      "text/html": "<div>\n<style scoped>\n    .dataframe tbody tr th:only-of-type {\n        vertical-align: middle;\n    }\n\n    .dataframe tbody tr th {\n        vertical-align: top;\n    }\n\n    .dataframe thead th {\n        text-align: right;\n    }\n</style>\n<table border=\"1\" class=\"dataframe\">\n  <thead>\n    <tr style=\"text-align: right;\">\n      <th></th>\n      <th>id</th>\n      <th>loc</th>\n      <th>v(g)</th>\n      <th>ev(g)</th>\n      <th>iv(g)</th>\n      <th>n</th>\n      <th>v</th>\n      <th>l</th>\n      <th>d</th>\n      <th>i</th>\n      <th>...</th>\n      <th>t</th>\n      <th>lOCode</th>\n      <th>lOComment</th>\n      <th>lOBlank</th>\n      <th>locCodeAndComment</th>\n      <th>uniq_Op</th>\n      <th>uniq_Opnd</th>\n      <th>total_Op</th>\n      <th>total_Opnd</th>\n      <th>branchCount</th>\n    </tr>\n  </thead>\n  <tbody>\n    <tr>\n      <th>count</th>\n      <td>101763.000000</td>\n      <td>101763.000000</td>\n      <td>101763.000000</td>\n      <td>101763.000000</td>\n      <td>101763.000000</td>\n      <td>101763.000000</td>\n      <td>101763.000000</td>\n      <td>101763.000000</td>\n      <td>101763.000000</td>\n      <td>101763.000000</td>\n      <td>...</td>\n      <td>101763.000000</td>\n      <td>101763.000000</td>\n      <td>101763.000000</td>\n      <td>101763.000000</td>\n      <td>101763.000000</td>\n      <td>101763.000000</td>\n      <td>101763.000000</td>\n      <td>101763.000000</td>\n      <td>101763.000000</td>\n      <td>101763.000000</td>\n    </tr>\n    <tr>\n      <th>mean</th>\n      <td>50881.000000</td>\n      <td>37.347160</td>\n      <td>5.492684</td>\n      <td>2.845022</td>\n      <td>3.498826</td>\n      <td>96.655995</td>\n      <td>538.280956</td>\n      <td>0.111634</td>\n      <td>13.681881</td>\n      <td>27.573007</td>\n      <td>...</td>\n      <td>1141.357982</td>\n      <td>22.802453</td>\n      <td>1.773945</td>\n      <td>3.979865</td>\n      <td>0.196604</td>\n      <td>11.896131</td>\n      <td>15.596671</td>\n      <td>57.628116</td>\n      <td>39.249698</td>\n      <td>9.839549</td>\n    </tr>\n    <tr>\n      <th>std</th>\n      <td>29376.592059</td>\n      <td>54.600401</td>\n      <td>7.900855</td>\n      <td>4.631262</td>\n      <td>5.534541</td>\n      <td>171.147191</td>\n      <td>1270.791601</td>\n      <td>0.100096</td>\n      <td>14.121306</td>\n      <td>22.856742</td>\n      <td>...</td>\n      <td>9862.795472</td>\n      <td>38.541010</td>\n      <td>5.902412</td>\n      <td>6.382358</td>\n      <td>0.998906</td>\n      <td>6.749549</td>\n      <td>18.064261</td>\n      <td>104.537660</td>\n      <td>71.692309</td>\n      <td>14.412769</td>\n    </tr>\n    <tr>\n      <th>min</th>\n      <td>0.000000</td>\n      <td>1.000000</td>\n      <td>1.000000</td>\n      <td>1.000000</td>\n      <td>1.000000</td>\n      <td>0.000000</td>\n      <td>0.000000</td>\n      <td>0.000000</td>\n      <td>0.000000</td>\n      <td>0.000000</td>\n      <td>...</td>\n      <td>0.000000</td>\n      <td>0.000000</td>\n      <td>0.000000</td>\n      <td>0.000000</td>\n      <td>0.000000</td>\n      <td>0.000000</td>\n      <td>0.000000</td>\n      <td>0.000000</td>\n      <td>0.000000</td>\n      <td>1.000000</td>\n    </tr>\n    <tr>\n      <th>25%</th>\n      <td>25440.500000</td>\n      <td>13.000000</td>\n      <td>2.000000</td>\n      <td>1.000000</td>\n      <td>1.000000</td>\n      <td>25.000000</td>\n      <td>97.670000</td>\n      <td>0.050000</td>\n      <td>5.600000</td>\n      <td>15.560000</td>\n      <td>...</td>\n      <td>31.380000</td>\n      <td>7.000000</td>\n      <td>0.000000</td>\n      <td>1.000000</td>\n      <td>0.000000</td>\n      <td>8.000000</td>\n      <td>7.000000</td>\n      <td>15.000000</td>\n      <td>10.000000</td>\n      <td>3.000000</td>\n    </tr>\n    <tr>\n      <th>50%</th>\n      <td>50881.000000</td>\n      <td>22.000000</td>\n      <td>3.000000</td>\n      <td>1.000000</td>\n      <td>2.000000</td>\n      <td>51.000000</td>\n      <td>232.790000</td>\n      <td>0.090000</td>\n      <td>9.820000</td>\n      <td>23.360000</td>\n      <td>...</td>\n      <td>125.400000</td>\n      <td>14.000000</td>\n      <td>0.000000</td>\n      <td>2.000000</td>\n      <td>0.000000</td>\n      <td>11.000000</td>\n      <td>12.000000</td>\n      <td>30.000000</td>\n      <td>20.000000</td>\n      <td>5.000000</td>\n    </tr>\n    <tr>\n      <th>75%</th>\n      <td>76321.500000</td>\n      <td>42.000000</td>\n      <td>6.000000</td>\n      <td>3.000000</td>\n      <td>4.000000</td>\n      <td>111.000000</td>\n      <td>560.250000</td>\n      <td>0.150000</td>\n      <td>18.000000</td>\n      <td>34.340000</td>\n      <td>...</td>\n      <td>565.920000</td>\n      <td>26.000000</td>\n      <td>1.000000</td>\n      <td>5.000000</td>\n      <td>0.000000</td>\n      <td>16.000000</td>\n      <td>20.000000</td>\n      <td>66.000000</td>\n      <td>45.000000</td>\n      <td>11.000000</td>\n    </tr>\n    <tr>\n      <th>max</th>\n      <td>101762.000000</td>\n      <td>3442.000000</td>\n      <td>404.000000</td>\n      <td>165.000000</td>\n      <td>402.000000</td>\n      <td>8441.000000</td>\n      <td>80843.080000</td>\n      <td>1.000000</td>\n      <td>418.200000</td>\n      <td>569.780000</td>\n      <td>...</td>\n      <td>935923.390000</td>\n      <td>2824.000000</td>\n      <td>344.000000</td>\n      <td>219.000000</td>\n      <td>43.000000</td>\n      <td>410.000000</td>\n      <td>1026.000000</td>\n      <td>5420.000000</td>\n      <td>3021.000000</td>\n      <td>503.000000</td>\n    </tr>\n  </tbody>\n</table>\n<p>8 rows × 22 columns</p>\n</div>"
     },
     "execution_count": 84,
     "metadata": {},
     "output_type": "execute_result"
    }
   ],
   "source": [
    "df.describe()"
   ],
   "metadata": {
    "collapsed": false,
    "ExecuteTime": {
     "end_time": "2023-10-14T07:03:17.121781Z",
     "start_time": "2023-10-14T07:03:16.978171Z"
    }
   },
   "id": "47c0581f467c2db5"
  },
  {
   "cell_type": "code",
   "execution_count": 85,
   "outputs": [
    {
     "data": {
      "text/plain": "<Axes: >"
     },
     "execution_count": 85,
     "metadata": {},
     "output_type": "execute_result"
    },
    {
     "data": {
      "text/plain": "<Figure size 640x480 with 2 Axes>",
      "image/png": "[encoded data removed]"
     },
     "metadata": {},
     "output_type": "display_data"
    }
   ],
   "source": [
    "sns.heatmap(df.corr(),cmap='coolwarm')"
   ],
   "metadata": {
    "collapsed": false,
    "ExecuteTime": {
     "end_time": "2023-10-14T07:03:19.913451Z",
     "start_time": "2023-10-14T07:03:19.145237Z"
    }
   },
   "id": "69a1eac7ffcd8545"
  },
  {
   "cell_type": "code",
   "execution_count": 86,
   "outputs": [
    {
     "data": {
      "text/plain": "id                   0\nloc                  0\nv(g)                 0\nev(g)                0\niv(g)                0\nn                    0\nv                    0\nl                    0\nd                    0\ni                    0\ne                    0\nb                    0\nt                    0\nlOCode               0\nlOComment            0\nlOBlank              0\nlocCodeAndComment    0\nuniq_Op              0\nuniq_Opnd            0\ntotal_Op             0\ntotal_Opnd           0\nbranchCount          0\ndefects              0\ndtype: int64"
     },
     "execution_count": 86,
     "metadata": {},
     "output_type": "execute_result"
    }
   ],
   "source": [
    "df.isnull().sum()"
   ],
   "metadata": {
    "collapsed": false,
    "ExecuteTime": {
     "end_time": "2023-10-14T07:03:22.143772Z",
     "start_time": "2023-10-14T07:03:22.132978Z"
    }
   },
   "id": "2b5a1fd98f7f8f1c"
  },
  {
   "cell_type": "code",
   "execution_count": 87,
   "outputs": [],
   "source": [
    "from sklearn.preprocessing import MinMaxScaler"
   ],
   "metadata": {
    "collapsed": false,
    "ExecuteTime": {
     "end_time": "2023-10-14T07:06:02.709049Z",
     "start_time": "2023-10-14T07:06:02.690214Z"
    }
   },
   "id": "ee0cb1c30737fef8"
  },
  {
   "cell_type": "code",
   "execution_count": 92,
   "outputs": [
    {
     "data": {
      "text/plain": "Index(['id', 'loc', 'v(g)', 'ev(g)', 'iv(g)', 'n', 'v', 'l', 'd', 'i', 'e',\n       'b', 't', 'lOCode', 'lOComment', 'lOBlank', 'locCodeAndComment',\n       'uniq_Op', 'uniq_Opnd', 'total_Op', 'total_Opnd', 'branchCount',\n       'defects'],\n      dtype='object')"
     },
     "execution_count": 92,
     "metadata": {},
     "output_type": "execute_result"
    }
   ],
   "source": [
    "scaler = MinMaxScaler()\n",
    "df.columns"
   ],
   "metadata": {
    "collapsed": false,
    "ExecuteTime": {
     "end_time": "2023-10-14T07:15:17.045450Z",
     "start_time": "2023-10-14T07:15:17.005988Z"
    }
   },
   "id": "b02c79966ae92b7"
  },
  {
   "cell_type": "code",
   "execution_count": 94,
   "outputs": [],
   "source": [
    "df['loc'] = scaler.fit_transform(df['loc'].values.reshape(-1,1))\n",
    "df['v(g)'] = scaler.fit_transform(df['v(g)'].values.reshape(-1,1))\n",
    "df['ev(g)'] = scaler.fit_transform(df['ev(g)'].values.reshape(-1,1))\n",
    "df['iv(g)'] = scaler.fit_transform(df['iv(g)'].values.reshape(-1,1))\n",
    "df['n'] = scaler.fit_transform(df['n'].values.reshape(-1,1))\n",
    "df['v'] = scaler.fit_transform(df['v'].values.reshape(-1,1))\n",
    "df['l'] = scaler.fit_transform(df['l'].values.reshape(-1,1))\n",
    "df['d'] = scaler.fit_transform(df['d'].values.reshape(-1,1))\n",
    "df['i'] = scaler.fit_transform(df['i'].values.reshape(-1,1))\n",
    "df['e'] = scaler.fit_transform(df['e'].values.reshape(-1,1))\n",
    "df['b'] = scaler.fit_transform(df['b'].values.reshape(-1,1))\n",
    "df['t'] = scaler.fit_transform(df['t'].values.reshape(-1,1))\n",
    "df['lOCode'] = scaler.fit_transform(df['lOCode'].values.reshape(-1,1))\n",
    "df['lOComment'] = scaler.fit_transform(df['lOComment'].values.reshape(-1,1))\n",
    "df['lOBlank'] = scaler.fit_transform(df['lOBlank'].values.reshape(-1,1))\n",
    "df['locCodeAndComment'] = scaler.fit_transform(df['locCodeAndComment'].values.reshape(-1,1))\n",
    "df['uniq_Op'] = scaler.fit_transform(df['uniq_Op'].values.reshape(-1,1))\n",
    "df['uniq_Opnd'] = scaler.fit_transform(df['uniq_Opnd'].values.reshape(-1,1))\n",
    "df['total_Op'] = scaler.fit_transform(df['total_Op'].values.reshape(-1,1))\n",
    "df['total_Opnd'] = scaler.fit_transform(df['total_Opnd'].values.reshape(-1,1))\n",
    "df['branchCount'] = scaler.fit_transform(df['branchCount'].values.reshape(-1,1))"
   ],
   "metadata": {
    "collapsed": false,
    "ExecuteTime": {
     "end_time": "2023-10-14T07:18:56.592477Z",
     "start_time": "2023-10-14T07:18:56.548856Z"
    }
   },
   "id": "3f490b8de2f51e39"
  },
  {
   "cell_type": "code",
   "execution_count": 107,
   "outputs": [],
   "source": [
    "# Test data"
   ],
   "metadata": {
    "collapsed": false,
    "ExecuteTime": {
     "end_time": "2023-10-14T07:35:15.658191Z",
     "start_time": "2023-10-14T07:35:15.641998Z"
    }
   },
   "id": "614067d9d92ca2ac"
  },
  {
   "cell_type": "code",
   "execution_count": 108,
   "outputs": [],
   "source": [
    "test_df = pd.read_csv('test.csv')"
   ],
   "metadata": {
    "collapsed": false,
    "ExecuteTime": {
     "end_time": "2023-10-14T07:35:40.599961Z",
     "start_time": "2023-10-14T07:35:40.374487Z"
    }
   },
   "id": "476687f22d0677e1"
  },
  {
   "cell_type": "code",
   "execution_count": 112,
   "outputs": [
    {
     "data": {
      "text/plain": "id                   0\nloc                  0\nv(g)                 0\nev(g)                0\niv(g)                0\nn                    0\nv                    0\nl                    0\nd                    0\ni                    0\ne                    0\nb                    0\nt                    0\nlOCode               0\nlOComment            0\nlOBlank              0\nlocCodeAndComment    0\nuniq_Op              0\nuniq_Opnd            0\ntotal_Op             0\ntotal_Opnd           0\nbranchCount          0\ndtype: int64"
     },
     "execution_count": 112,
     "metadata": {},
     "output_type": "execute_result"
    }
   ],
   "source": [
    "test_df.isnull().sum()"
   ],
   "metadata": {
    "collapsed": false,
    "ExecuteTime": {
     "end_time": "2023-10-14T07:36:18.535205Z",
     "start_time": "2023-10-14T07:36:18.510407Z"
    }
   },
   "id": "87a52dec337e5a4e"
  },
  {
   "cell_type": "code",
   "execution_count": 114,
   "outputs": [],
   "source": [
    "test_df['loc'] = scaler.fit_transform(test_df['loc'].values.reshape(-1,1))\n",
    "test_df['v(g)'] = scaler.fit_transform(test_df['v(g)'].values.reshape(-1,1))\n",
    "test_df['ev(g)'] = scaler.fit_transform(test_df['ev(g)'].values.reshape(-1,1))\n",
    "test_df['iv(g)'] = scaler.fit_transform(test_df['iv(g)'].values.reshape(-1,1))\n",
    "test_df['n'] = scaler.fit_transform(test_df['n'].values.reshape(-1,1))\n",
    "test_df['v'] = scaler.fit_transform(test_df['v'].values.reshape(-1,1))\n",
    "test_df['l'] = scaler.fit_transform(test_df['l'].values.reshape(-1,1))\n",
    "test_df['d'] = scaler.fit_transform(test_df['d'].values.reshape(-1,1))\n",
    "test_df['i'] = scaler.fit_transform(test_df['i'].values.reshape(-1,1))\n",
    "test_df['e'] = scaler.fit_transform(test_df['e'].values.reshape(-1,1))\n",
    "test_df['b'] = scaler.fit_transform(test_df['b'].values.reshape(-1,1))\n",
    "test_df['t'] = scaler.fit_transform(test_df['t'].values.reshape(-1,1))\n",
    "test_df['lOCode'] = scaler.fit_transform(test_df['lOCode'].values.reshape(-1,1))\n",
    "test_df['lOComment'] = scaler.fit_transform(test_df['lOComment'].values.reshape(-1,1))\n",
    "test_df['lOBlank'] = scaler.fit_transform(test_df['lOBlank'].values.reshape(-1,1))\n",
    "test_df['locCodeAndComment'] = scaler.fit_transform(test_df['locCodeAndComment'].values.reshape(-1,1))\n",
    "test_df['uniq_Op'] = scaler.fit_transform(test_df['uniq_Op'].values.reshape(-1,1))\n",
    "test_df['uniq_Opnd'] = scaler.fit_transform(test_df['uniq_Opnd'].values.reshape(-1,1))\n",
    "test_df['total_Op'] = scaler.fit_transform(test_df['total_Op'].values.reshape(-1,1))\n",
    "test_df['total_Opnd'] = scaler.fit_transform(test_df['total_Opnd'].values.reshape(-1,1))\n",
    "test_df['branchCount'] = scaler.fit_transform(test_df['branchCount'].values.reshape(-1,1))\n"
   ],
   "metadata": {
    "collapsed": false,
    "ExecuteTime": {
     "end_time": "2023-10-14T07:37:40.676315Z",
     "start_time": "2023-10-14T07:37:40.583407Z"
    }
   },
   "id": "123b11ec0fc8df5"
  },
  {
   "cell_type": "code",
   "execution_count": null,
   "outputs": [],
   "source": [],
   "metadata": {
    "collapsed": false
   },
   "id": "90f8a1ae378d62f9"
  },
  {
   "cell_type": "code",
   "execution_count": null,
   "outputs": [],
   "source": [],
   "metadata": {
    "collapsed": false
   },
   "id": "7f91d0a543d36abd"
  },
  {
   "cell_type": "code",
   "execution_count": 149,
   "outputs": [],
   "source": [
    "from sklearn.model_selection import train_test_split \n",
    "X = df.drop('defects',axis=1)\n",
    "y = df['defects']\n",
    "\n",
    "X_train, X_test, y_train, y_test = train_test_split(X, y, test_size=0.3, random_state=42)"
   ],
   "metadata": {
    "collapsed": false,
    "ExecuteTime": {
     "end_time": "2023-10-14T10:15:32.172504Z",
     "start_time": "2023-10-14T10:15:32.120059Z"
    }
   },
   "id": "ca36f463d4da5ae2"
  },
  {
   "cell_type": "code",
   "execution_count": 150,
   "outputs": [],
   "source": [
    "from sklearn.ensemble import RandomForestClassifier"
   ],
   "metadata": {
    "collapsed": false,
    "ExecuteTime": {
     "end_time": "2023-10-14T10:15:32.669672Z",
     "start_time": "2023-10-14T10:15:32.652722Z"
    }
   },
   "id": "e9f89f5d4f9a7d0c"
  },
  {
   "cell_type": "code",
   "execution_count": 153,
   "outputs": [],
   "source": [
    "model = RandomForestClassifier()"
   ],
   "metadata": {
    "collapsed": false,
    "ExecuteTime": {
     "end_time": "2023-10-14T10:15:42.974864Z",
     "start_time": "2023-10-14T10:15:42.951045Z"
    }
   },
   "id": "d9892eaa301765cc"
  },
  {
   "cell_type": "code",
   "execution_count": 154,
   "outputs": [
    {
     "data": {
      "text/plain": "RandomForestClassifier()",
      "text/html": "<style>#sk-container-id-3 {color: black;}#sk-container-id-3 pre{padding: 0;}#sk-container-id-3 div.sk-toggleable {background-color: white;}#sk-container-id-3 label.sk-toggleable__label {cursor: pointer;display: block;width: 100%;margin-bottom: 0;padding: 0.3em;box-sizing: border-box;text-align: center;}#sk-container-id-3 label.sk-toggleable__label-arrow:before {content: \"▸\";float: left;margin-right: 0.25em;color: #696969;}#sk-container-id-3 label.sk-toggleable__label-arrow:hover:before {color: black;}#sk-container-id-3 div.sk-estimator:hover label.sk-toggleable__label-arrow:before {color: black;}#sk-container-id-3 div.sk-toggleable__content {max-height: 0;max-width: 0;overflow: hidden;text-align: left;background-color: #f0f8ff;}#sk-container-id-3 div.sk-toggleable__content pre {margin: 0.2em;color: black;border-radius: 0.25em;background-color: #f0f8ff;}#sk-container-id-3 input.sk-toggleable__control:checked~div.sk-toggleable__content {max-height: 200px;max-width: 100%;overflow: auto;}#sk-container-id-3 input.sk-toggleable__control:checked~label.sk-toggleable__label-arrow:before {content: \"▾\";}#sk-container-id-3 div.sk-estimator input.sk-toggleable__control:checked~label.sk-toggleable__label {background-color: #d4ebff;}#sk-container-id-3 div.sk-label input.sk-toggleable__control:checked~label.sk-toggleable__label {background-color: #d4ebff;}#sk-container-id-3 input.sk-hidden--visually {border: 0;clip: rect(1px 1px 1px 1px);clip: rect(1px, 1px, 1px, 1px);height: 1px;margin: -1px;overflow: hidden;padding: 0;position: absolute;width: 1px;}#sk-container-id-3 div.sk-estimator {font-family: monospace;background-color: #f0f8ff;border: 1px dotted black;border-radius: 0.25em;box-sizing: border-box;margin-bottom: 0.5em;}#sk-container-id-3 div.sk-estimator:hover {background-color: #d4ebff;}#sk-container-id-3 div.sk-parallel-item::after {content: \"\";width: 100%;border-bottom: 1px solid gray;flex-grow: 1;}#sk-container-id-3 div.sk-label:hover label.sk-toggleable__label {background-color: #d4ebff;}#sk-container-id-3 div.sk-serial::before {content: \"\";position: absolute;border-left: 1px solid gray;box-sizing: border-box;top: 0;bottom: 0;left: 50%;z-index: 0;}#sk-container-id-3 div.sk-serial {display: flex;flex-direction: column;align-items: center;background-color: white;padding-right: 0.2em;padding-left: 0.2em;position: relative;}#sk-container-id-3 div.sk-item {position: relative;z-index: 1;}#sk-container-id-3 div.sk-parallel {display: flex;align-items: stretch;justify-content: center;background-color: white;position: relative;}#sk-container-id-3 div.sk-item::before, #sk-container-id-3 div.sk-parallel-item::before {content: \"\";position: absolute;border-left: 1px solid gray;box-sizing: border-box;top: 0;bottom: 0;left: 50%;z-index: -1;}#sk-container-id-3 div.sk-parallel-item {display: flex;flex-direction: column;z-index: 1;position: relative;background-color: white;}#sk-container-id-3 div.sk-parallel-item:first-child::after {align-self: flex-end;width: 50%;}#sk-container-id-3 div.sk-parallel-item:last-child::after {align-self: flex-start;width: 50%;}#sk-container-id-3 div.sk-parallel-item:only-child::after {width: 0;}#sk-container-id-3 div.sk-dashed-wrapped {border: 1px dashed gray;margin: 0 0.4em 0.5em 0.4em;box-sizing: border-box;padding-bottom: 0.4em;background-color: white;}#sk-container-id-3 div.sk-label label {font-family: monospace;font-weight: bold;display: inline-block;line-height: 1.2em;}#sk-container-id-3 div.sk-label-container {text-align: center;}#sk-container-id-3 div.sk-container {/* jupyter's `normalize.less` sets `[hidden] { display: none; }` but bootstrap.min.css set `[hidden] { display: none !important; }` so we also need the `!important` here to be able to override the default hidden behavior on the sphinx rendered scikit-learn.org. See: https://github.com/scikit-learn/scikit-learn/issues/21755 */display: inline-block !important;position: relative;}#sk-container-id-3 div.sk-text-repr-fallback {display: none;}</style><div id=\"sk-container-id-3\" class=\"sk-top-container\"><div class=\"sk-text-repr-fallback\"><pre>RandomForestClassifier()</pre><b>In a Jupyter environment, please rerun this cell to show the HTML representation or trust the notebook. <br />On GitHub, the HTML representation is unable to render, please try loading this page with nbviewer.org.</b></div><div class=\"sk-container\" hidden><div class=\"sk-item\"><div class=\"sk-estimator sk-toggleable\"><input class=\"sk-toggleable__control sk-hidden--visually\" id=\"sk-estimator-id-3\" type=\"checkbox\" checked><label for=\"sk-estimator-id-3\" class=\"sk-toggleable__label sk-toggleable__label-arrow\">RandomForestClassifier</label><div class=\"sk-toggleable__content\"><pre>RandomForestClassifier()</pre></div></div></div></div></div>"
     },
     "execution_count": 154,
     "metadata": {},
     "output_type": "execute_result"
    }
   ],
   "source": [
    "model.fit(X_train,y_train)"
   ],
   "metadata": {
    "collapsed": false,
    "ExecuteTime": {
     "end_time": "2023-10-14T10:15:58.039359Z",
     "start_time": "2023-10-14T10:15:43.373768Z"
    }
   },
   "id": "218ddf591ecf1045"
  },
  {
   "cell_type": "code",
   "execution_count": 155,
   "outputs": [
    {
     "data": {
      "text/plain": "[<matplotlib.lines.Line2D at 0x13f85be90>,\n <matplotlib.lines.Line2D at 0x13f85b910>,\n <matplotlib.lines.Line2D at 0x13f85b650>,\n <matplotlib.lines.Line2D at 0x13fc9b310>,\n <matplotlib.lines.Line2D at 0x13f879950>,\n <matplotlib.lines.Line2D at 0x13f85af50>,\n <matplotlib.lines.Line2D at 0x13f85abd0>,\n <matplotlib.lines.Line2D at 0x13f85a810>,\n <matplotlib.lines.Line2D at 0x13f85a450>,\n <matplotlib.lines.Line2D at 0x13f859f10>,\n <matplotlib.lines.Line2D at 0x13f879c10>,\n <matplotlib.lines.Line2D at 0x13fcc1890>,\n <matplotlib.lines.Line2D at 0x13f8595d0>,\n <matplotlib.lines.Line2D at 0x13f8591d0>,\n <matplotlib.lines.Line2D at 0x13f858dd0>,\n <matplotlib.lines.Line2D at 0x13f8588d0>,\n <matplotlib.lines.Line2D at 0x13f858610>,\n <matplotlib.lines.Line2D at 0x13f878150>,\n <matplotlib.lines.Line2D at 0x13f84fe90>,\n <matplotlib.lines.Line2D at 0x13f84fad0>,\n <matplotlib.lines.Line2D at 0x13f84f710>,\n <matplotlib.lines.Line2D at 0x13f84f350>]"
     },
     "execution_count": 155,
     "metadata": {},
     "output_type": "execute_result"
    },
    {
     "data": {
      "text/plain": "<Figure size 640x480 with 1 Axes>",
      "image/png": "[encoded data removed]"
     },
     "metadata": {},
     "output_type": "display_data"
    }
   ],
   "source": [
    "predictions = model.predict(X_test)\n",
    "plt.plot(X_test,predictions)"
   ],
   "metadata": {
    "collapsed": false,
    "ExecuteTime": {
     "end_time": "2023-10-14T10:21:57.784663Z",
     "start_time": "2023-10-14T10:21:54.249450Z"
    }
   },
   "id": "2bd39ea34693b443"
  },
  {
   "cell_type": "code",
   "execution_count": 156,
   "outputs": [],
   "source": [
    "features = model.feature_names_in_.tolist()\n",
    "new_test = test_df[features]"
   ],
   "metadata": {
    "collapsed": false,
    "ExecuteTime": {
     "end_time": "2023-10-14T10:23:03.517586Z",
     "start_time": "2023-10-14T10:23:03.499474Z"
    }
   },
   "id": "aa9ac5e0206cc27"
  },
  {
   "cell_type": "code",
   "execution_count": 157,
   "outputs": [],
   "source": [
    "test_predict = model.predict(new_test)"
   ],
   "metadata": {
    "collapsed": false,
    "ExecuteTime": {
     "end_time": "2023-10-14T10:23:05.097294Z",
     "start_time": "2023-10-14T10:23:04.343293Z"
    }
   },
   "id": "38aa95781decd409"
  },
  {
   "cell_type": "code",
   "execution_count": 158,
   "outputs": [],
   "source": [
    "from sklearn.metrics import confusion_matrix, classification_report,roc_auc_score"
   ],
   "metadata": {
    "collapsed": false,
    "ExecuteTime": {
     "end_time": "2023-10-14T10:23:05.739207Z",
     "start_time": "2023-10-14T10:23:05.726141Z"
    }
   },
   "id": "540dea1abc528133"
  },
  {
   "cell_type": "code",
   "execution_count": 159,
   "outputs": [
    {
     "name": "stdout",
     "output_type": "stream",
     "text": [
      "[[22111  1531]\n",
      " [ 4302  2585]]\n"
     ]
    }
   ],
   "source": [
    "print(confusion_matrix(y_test,predictions))"
   ],
   "metadata": {
    "collapsed": false,
    "ExecuteTime": {
     "end_time": "2023-10-14T10:23:06.970097Z",
     "start_time": "2023-10-14T10:23:06.947383Z"
    }
   },
   "id": "da5cb72998de1e14"
  },
  {
   "cell_type": "code",
   "execution_count": 160,
   "outputs": [
    {
     "name": "stdout",
     "output_type": "stream",
     "text": [
      "              precision    recall  f1-score   support\n",
      "\n",
      "       False       0.84      0.94      0.88     23642\n",
      "        True       0.63      0.38      0.47      6887\n",
      "\n",
      "    accuracy                           0.81     30529\n",
      "   macro avg       0.73      0.66      0.68     30529\n",
      "weighted avg       0.79      0.81      0.79     30529\n"
     ]
    }
   ],
   "source": [
    "print(classification_report(y_test,predictions))"
   ],
   "metadata": {
    "collapsed": false,
    "ExecuteTime": {
     "end_time": "2023-10-14T10:23:13.770286Z",
     "start_time": "2023-10-14T10:23:13.711846Z"
    }
   },
   "id": "894e1b0ee2ad6cfa"
  },
  {
   "cell_type": "code",
   "execution_count": 161,
   "outputs": [],
   "source": [
    "binary_submission = pd.DataFrame()"
   ],
   "metadata": {
    "collapsed": false,
    "ExecuteTime": {
     "end_time": "2023-10-14T10:23:31.672326Z",
     "start_time": "2023-10-14T10:23:31.658341Z"
    }
   },
   "id": "5c58bfc4b628aea2"
  },
  {
   "cell_type": "code",
   "execution_count": 162,
   "outputs": [],
   "source": [
    "binary_submission['id'] = test_df['id']"
   ],
   "metadata": {
    "collapsed": false,
    "ExecuteTime": {
     "end_time": "2023-10-14T10:23:41.224100Z",
     "start_time": "2023-10-14T10:23:41.212594Z"
    }
   },
   "id": "4bb26c1acddaaea"
  },
  {
   "cell_type": "code",
   "execution_count": 163,
   "outputs": [],
   "source": [
    "svm_predict = model.predict(new_test)"
   ],
   "metadata": {
    "collapsed": false,
    "ExecuteTime": {
     "end_time": "2023-10-14T10:23:42.762463Z",
     "start_time": "2023-10-14T10:23:42.041081Z"
    }
   },
   "id": "62805cec2724b4f9"
  },
  {
   "cell_type": "code",
   "execution_count": 170,
   "outputs": [],
   "source": [],
   "metadata": {
    "collapsed": false,
    "ExecuteTime": {
     "end_time": "2023-10-14T10:26:07.275010Z",
     "start_time": "2023-10-14T10:26:07.245791Z"
    }
   },
   "id": "fe618ae5775742ae"
  },
  {
   "cell_type": "code",
   "execution_count": 171,
   "outputs": [
    {
     "name": "stdout",
     "output_type": "stream",
     "text": [
      "0.6552936089515025\n"
     ]
    }
   ],
   "source": [
    "auc_score = roc_auc_score(y_test,predictions)\n",
    "print(auc_score)"
   ],
   "metadata": {
    "collapsed": false,
    "ExecuteTime": {
     "end_time": "2023-10-14T10:26:09.956120Z",
     "start_time": "2023-10-14T10:26:09.940591Z"
    }
   },
   "id": "93cedb9b0098c907"
  },
  {
   "cell_type": "code",
   "execution_count": 172,
   "outputs": [],
   "source": [
    "binary_submission['defects'] = auc_score"
   ],
   "metadata": {
    "collapsed": false,
    "ExecuteTime": {
     "end_time": "2023-10-14T10:26:10.997596Z",
     "start_time": "2023-10-14T10:26:10.981985Z"
    }
   },
   "id": "733e45d00fad2c97"
  },
  {
   "cell_type": "code",
   "execution_count": 173,
   "outputs": [
    {
     "data": {
      "text/plain": "           id   defects\n0      101763  0.655294\n1      101764  0.655294\n2      101765  0.655294\n3      101766  0.655294\n4      101767  0.655294\n...       ...       ...\n67837  169600  0.655294\n67838  169601  0.655294\n67839  169602  0.655294\n67840  169603  0.655294\n67841  169604  0.655294\n\n[67842 rows x 2 columns]",
      "text/html": "<div>\n<style scoped>\n    .dataframe tbody tr th:only-of-type {\n        vertical-align: middle;\n    }\n\n    .dataframe tbody tr th {\n        vertical-align: top;\n    }\n\n    .dataframe thead th {\n        text-align: right;\n    }\n</style>\n<table border=\"1\" class=\"dataframe\">\n  <thead>\n    <tr style=\"text-align: right;\">\n      <th></th>\n      <th>id</th>\n      <th>defects</th>\n    </tr>\n  </thead>\n  <tbody>\n    <tr>\n      <th>0</th>\n      <td>101763</td>\n      <td>0.655294</td>\n    </tr>\n    <tr>\n      <th>1</th>\n      <td>101764</td>\n      <td>0.655294</td>\n    </tr>\n    <tr>\n      <th>2</th>\n      <td>101765</td>\n      <td>0.655294</td>\n    </tr>\n    <tr>\n      <th>3</th>\n      <td>101766</td>\n      <td>0.655294</td>\n    </tr>\n    <tr>\n      <th>4</th>\n      <td>101767</td>\n      <td>0.655294</td>\n    </tr>\n    <tr>\n      <th>...</th>\n      <td>...</td>\n      <td>...</td>\n    </tr>\n    <tr>\n      <th>67837</th>\n      <td>169600</td>\n      <td>0.655294</td>\n    </tr>\n    <tr>\n      <th>67838</th>\n      <td>169601</td>\n      <td>0.655294</td>\n    </tr>\n    <tr>\n      <th>67839</th>\n      <td>169602</td>\n      <td>0.655294</td>\n    </tr>\n    <tr>\n      <th>67840</th>\n      <td>169603</td>\n      <td>0.655294</td>\n    </tr>\n    <tr>\n      <th>67841</th>\n      <td>169604</td>\n      <td>0.655294</td>\n    </tr>\n  </tbody>\n</table>\n<p>67842 rows × 2 columns</p>\n</div>"
     },
     "execution_count": 173,
     "metadata": {},
     "output_type": "execute_result"
    }
   ],
   "source": [
    "binary_submission"
   ],
   "metadata": {
    "collapsed": false,
    "ExecuteTime": {
     "end_time": "2023-10-14T10:26:12.043407Z",
     "start_time": "2023-10-14T10:26:12.034660Z"
    }
   },
   "id": "75a26d9e2fbc64a2"
  },
  {
   "cell_type": "code",
   "execution_count": 170,
   "outputs": [],
   "source": [
    "binary_submission.to_csv('submission.csv',index=False)"
   ],
   "metadata": {
    "collapsed": false,
    "ExecuteTime": {
     "end_time": "2023-10-14T10:24:04.087210Z",
     "start_time": "2023-10-14T10:24:03.943567Z"
    }
   },
   "id": "508fc9f91e77486f"
  },
  {
   "cell_type": "code",
   "execution_count": null,
   "outputs": [],
   "source": [],
   "metadata": {
    "collapsed": false
   },
   "id": "abaab2363229248b"
  }
 ],
 "metadata": {
  "kernelspec": {
   "display_name": "Python 3",
   "language": "python",
   "name": "python3"
  },
  "language_info": {
   "codemirror_mode": {
    "name": "ipython",
    "version": 2
   },
   "file_extension": ".py",
   "mimetype": "text/x-python",
   "name": "python",
   "nbconvert_exporter": "python",
   "pygments_lexer": "ipython2",
   "version": "2.7.6"
  }
 },
 "nbformat": 4,
 "nbformat_minor": 5
}
