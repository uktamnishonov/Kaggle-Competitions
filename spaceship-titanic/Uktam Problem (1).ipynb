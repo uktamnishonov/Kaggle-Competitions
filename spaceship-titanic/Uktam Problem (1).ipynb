{
 "cells": [
  {
   "cell_type": "code",
   "execution_count": 2,
   "id": "initial_id",
   "metadata": {
    "collapsed": true,
    "ExecuteTime": {
     "end_time": "2023-10-06T15:11:58.870191Z",
     "start_time": "2023-10-06T15:11:58.448448Z"
    }
   },
   "outputs": [],
   "source": [
    "import numpy as np \n",
    "import pandas as pd\n",
    "import matplotlib.pyplot as plt \n",
    "import seaborn as sns"
   ]
  },
  {
   "cell_type": "code",
   "execution_count": 3,
   "outputs": [],
   "source": [
    "train = pd.read_csv('train.csv')"
   ],
   "metadata": {
    "collapsed": false,
    "ExecuteTime": {
     "end_time": "2023-10-06T15:11:58.944923Z",
     "start_time": "2023-10-06T15:11:58.452142Z"
    }
   },
   "id": "1a47db3910989234"
  },
  {
   "cell_type": "code",
   "execution_count": 4,
   "outputs": [
    {
     "name": "stdout",
     "output_type": "stream",
     "text": [
      "<class 'pandas.core.frame.DataFrame'>\n",
      "RangeIndex: 8693 entries, 0 to 8692\n",
      "Data columns (total 14 columns):\n",
      " #   Column        Non-Null Count  Dtype  \n",
      "---  ------        --------------  -----  \n",
      " 0   PassengerId   8693 non-null   object \n",
      " 1   HomePlanet    8492 non-null   object \n",
      " 2   CryoSleep     8476 non-null   object \n",
      " 3   Cabin         8494 non-null   object \n",
      " 4   Destination   8511 non-null   object \n",
      " 5   Age           8514 non-null   float64\n",
      " 6   VIP           8490 non-null   object \n",
      " 7   RoomService   8512 non-null   float64\n",
      " 8   FoodCourt     8510 non-null   float64\n",
      " 9   ShoppingMall  8485 non-null   float64\n",
      " 10  Spa           8510 non-null   float64\n",
      " 11  VRDeck        8505 non-null   float64\n",
      " 12  Name          8493 non-null   object \n",
      " 13  Transported   8693 non-null   bool   \n",
      "dtypes: bool(1), float64(6), object(7)\n",
      "memory usage: 891.5+ KB\n"
     ]
    }
   ],
   "source": [
    "train.info()"
   ],
   "metadata": {
    "collapsed": false,
    "ExecuteTime": {
     "end_time": "2023-10-06T15:11:58.945252Z",
     "start_time": "2023-10-06T15:11:58.497930Z"
    }
   },
   "id": "89ee25626275f595"
  },
  {
   "cell_type": "code",
   "execution_count": 5,
   "outputs": [],
   "source": [
    "df = train.copy()"
   ],
   "metadata": {
    "collapsed": false,
    "ExecuteTime": {
     "end_time": "2023-10-06T15:11:58.945325Z",
     "start_time": "2023-10-06T15:11:58.512487Z"
    }
   },
   "id": "71561be4daa7aa4"
  },
  {
   "cell_type": "code",
   "execution_count": 6,
   "outputs": [
    {
     "data": {
      "text/plain": "               Age   RoomService     FoodCourt  ShoppingMall           Spa  \\\ncount  8514.000000   8512.000000   8510.000000   8485.000000   8510.000000   \nmean     28.827930    224.687617    458.077203    173.729169    311.138778   \nstd      14.489021    666.717663   1611.489240    604.696458   1136.705535   \nmin       0.000000      0.000000      0.000000      0.000000      0.000000   \n25%      19.000000      0.000000      0.000000      0.000000      0.000000   \n50%      27.000000      0.000000      0.000000      0.000000      0.000000   \n75%      38.000000     47.000000     76.000000     27.000000     59.000000   \nmax      79.000000  14327.000000  29813.000000  23492.000000  22408.000000   \n\n             VRDeck  \ncount   8505.000000  \nmean     304.854791  \nstd     1145.717189  \nmin        0.000000  \n25%        0.000000  \n50%        0.000000  \n75%       46.000000  \nmax    24133.000000  ",
      "text/html": "<div>\n<style scoped>\n    .dataframe tbody tr th:only-of-type {\n        vertical-align: middle;\n    }\n\n    .dataframe tbody tr th {\n        vertical-align: top;\n    }\n\n    .dataframe thead th {\n        text-align: right;\n    }\n</style>\n<table border=\"1\" class=\"dataframe\">\n  <thead>\n    <tr style=\"text-align: right;\">\n      <th></th>\n      <th>Age</th>\n      <th>RoomService</th>\n      <th>FoodCourt</th>\n      <th>ShoppingMall</th>\n      <th>Spa</th>\n      <th>VRDeck</th>\n    </tr>\n  </thead>\n  <tbody>\n    <tr>\n      <th>count</th>\n      <td>8514.000000</td>\n      <td>8512.000000</td>\n      <td>8510.000000</td>\n      <td>8485.000000</td>\n      <td>8510.000000</td>\n      <td>8505.000000</td>\n    </tr>\n    <tr>\n      <th>mean</th>\n      <td>28.827930</td>\n      <td>224.687617</td>\n      <td>458.077203</td>\n      <td>173.729169</td>\n      <td>311.138778</td>\n      <td>304.854791</td>\n    </tr>\n    <tr>\n      <th>std</th>\n      <td>14.489021</td>\n      <td>666.717663</td>\n      <td>1611.489240</td>\n      <td>604.696458</td>\n      <td>1136.705535</td>\n      <td>1145.717189</td>\n    </tr>\n    <tr>\n      <th>min</th>\n      <td>0.000000</td>\n      <td>0.000000</td>\n      <td>0.000000</td>\n      <td>0.000000</td>\n      <td>0.000000</td>\n      <td>0.000000</td>\n    </tr>\n    <tr>\n      <th>25%</th>\n      <td>19.000000</td>\n      <td>0.000000</td>\n      <td>0.000000</td>\n      <td>0.000000</td>\n      <td>0.000000</td>\n      <td>0.000000</td>\n    </tr>\n    <tr>\n      <th>50%</th>\n      <td>27.000000</td>\n      <td>0.000000</td>\n      <td>0.000000</td>\n      <td>0.000000</td>\n      <td>0.000000</td>\n      <td>0.000000</td>\n    </tr>\n    <tr>\n      <th>75%</th>\n      <td>38.000000</td>\n      <td>47.000000</td>\n      <td>76.000000</td>\n      <td>27.000000</td>\n      <td>59.000000</td>\n      <td>46.000000</td>\n    </tr>\n    <tr>\n      <th>max</th>\n      <td>79.000000</td>\n      <td>14327.000000</td>\n      <td>29813.000000</td>\n      <td>23492.000000</td>\n      <td>22408.000000</td>\n      <td>24133.000000</td>\n    </tr>\n  </tbody>\n</table>\n</div>"
     },
     "execution_count": 6,
     "metadata": {},
     "output_type": "execute_result"
    }
   ],
   "source": [
    "df.describe()"
   ],
   "metadata": {
    "collapsed": false,
    "ExecuteTime": {
     "end_time": "2023-10-06T15:11:58.945778Z",
     "start_time": "2023-10-06T15:11:58.521972Z"
    }
   },
   "id": "3be0e17b17d962ad"
  },
  {
   "cell_type": "code",
   "execution_count": 7,
   "outputs": [
    {
     "data": {
      "text/plain": "0       False\n1        True\n2       False\n3       False\n4        True\n        ...  \n8688    False\n8689    False\n8690     True\n8691    False\n8692     True\nName: Transported, Length: 8693, dtype: bool"
     },
     "execution_count": 7,
     "metadata": {},
     "output_type": "execute_result"
    }
   ],
   "source": [
    "df.head()\n",
    "train['Transported']"
   ],
   "metadata": {
    "collapsed": false,
    "ExecuteTime": {
     "end_time": "2023-10-06T15:11:58.945973Z",
     "start_time": "2023-10-06T15:11:58.555316Z"
    }
   },
   "id": "1c3ad645ce260056"
  },
  {
   "cell_type": "code",
   "execution_count": 8,
   "outputs": [],
   "source": [
    "df.drop('Name',axis=1,inplace=True)"
   ],
   "metadata": {
    "collapsed": false,
    "ExecuteTime": {
     "end_time": "2023-10-06T15:11:58.946066Z",
     "start_time": "2023-10-06T15:11:58.564Z"
    }
   },
   "id": "d36114091fe8b4c9"
  },
  {
   "cell_type": "code",
   "execution_count": 9,
   "outputs": [
    {
     "data": {
      "text/plain": "8693"
     },
     "execution_count": 9,
     "metadata": {},
     "output_type": "execute_result"
    }
   ],
   "source": [
    "len(df)"
   ],
   "metadata": {
    "collapsed": false,
    "ExecuteTime": {
     "end_time": "2023-10-06T15:11:58.946225Z",
     "start_time": "2023-10-06T15:11:58.567456Z"
    }
   },
   "id": "24706ac7eebfb2af"
  },
  {
   "cell_type": "code",
   "execution_count": 10,
   "outputs": [],
   "source": [
    "from sklearn.preprocessing import LabelEncoder\n",
    "label_encoder = LabelEncoder()"
   ],
   "metadata": {
    "collapsed": false,
    "ExecuteTime": {
     "end_time": "2023-10-06T15:11:58.946784Z",
     "start_time": "2023-10-06T15:11:58.574698Z"
    }
   },
   "id": "b783089c34c0b115"
  },
  {
   "cell_type": "code",
   "execution_count": 11,
   "outputs": [],
   "source": [
    "df['Transported'] = label_encoder.fit_transform(df['Transported'])"
   ],
   "metadata": {
    "collapsed": false,
    "ExecuteTime": {
     "end_time": "2023-10-06T15:11:58.946921Z",
     "start_time": "2023-10-06T15:11:58.720519Z"
    }
   },
   "id": "c14bc35428d47b3f"
  },
  {
   "cell_type": "code",
   "execution_count": 12,
   "outputs": [],
   "source": [
    "df['CryoSleep'] = label_encoder.fit_transform(df['CryoSleep'])"
   ],
   "metadata": {
    "collapsed": false,
    "ExecuteTime": {
     "end_time": "2023-10-06T15:11:58.946984Z",
     "start_time": "2023-10-06T15:11:58.728450Z"
    }
   },
   "id": "c618683685e27e2d"
  },
  {
   "cell_type": "code",
   "execution_count": 13,
   "outputs": [],
   "source": [
    "df['HomePlanet'] = label_encoder.fit_transform(df['HomePlanet'])\n",
    "df['VIP'] = label_encoder.fit_transform(df['VIP'])"
   ],
   "metadata": {
    "collapsed": false,
    "ExecuteTime": {
     "end_time": "2023-10-06T15:11:58.947065Z",
     "start_time": "2023-10-06T15:11:58.732085Z"
    }
   },
   "id": "41a0e87fa9b2f7f5"
  },
  {
   "cell_type": "code",
   "execution_count": 14,
   "outputs": [
    {
     "data": {
      "text/plain": "     PassengerId  HomePlanet  CryoSleep     Cabin    Destination   Age  VIP  \\\n0        0001_01           1          0     B/0/P    TRAPPIST-1e  39.0    0   \n1        0002_01           0          0     F/0/S    TRAPPIST-1e  24.0    0   \n2        0003_01           1          0     A/0/S    TRAPPIST-1e  58.0    1   \n3        0003_02           1          0     A/0/S    TRAPPIST-1e  33.0    0   \n4        0004_01           0          0     F/1/S    TRAPPIST-1e  16.0    0   \n...          ...         ...        ...       ...            ...   ...  ...   \n8688     9276_01           1          0    A/98/P    55 Cancri e  41.0    1   \n8689     9278_01           0          1  G/1499/S  PSO J318.5-22  18.0    0   \n8690     9279_01           0          0  G/1500/S    TRAPPIST-1e  26.0    0   \n8691     9280_01           1          0   E/608/S    55 Cancri e  32.0    0   \n8692     9280_02           1          0   E/608/S    TRAPPIST-1e  44.0    0   \n\n      RoomService  FoodCourt  ShoppingMall     Spa  VRDeck  Transported  \n0             0.0        0.0           0.0     0.0     0.0            0  \n1           109.0        9.0          25.0   549.0    44.0            1  \n2            43.0     3576.0           0.0  6715.0    49.0            0  \n3             0.0     1283.0         371.0  3329.0   193.0            0  \n4           303.0       70.0         151.0   565.0     2.0            1  \n...           ...        ...           ...     ...     ...          ...  \n8688          0.0     6819.0           0.0  1643.0    74.0            0  \n8689          0.0        0.0           0.0     0.0     0.0            0  \n8690          0.0        0.0        1872.0     1.0     0.0            1  \n8691          0.0     1049.0           0.0   353.0  3235.0            0  \n8692        126.0     4688.0           0.0     0.0    12.0            1  \n\n[8693 rows x 13 columns]",
      "text/html": "<div>\n<style scoped>\n    .dataframe tbody tr th:only-of-type {\n        vertical-align: middle;\n    }\n\n    .dataframe tbody tr th {\n        vertical-align: top;\n    }\n\n    .dataframe thead th {\n        text-align: right;\n    }\n</style>\n<table border=\"1\" class=\"dataframe\">\n  <thead>\n    <tr style=\"text-align: right;\">\n      <th></th>\n      <th>PassengerId</th>\n      <th>HomePlanet</th>\n      <th>CryoSleep</th>\n      <th>Cabin</th>\n      <th>Destination</th>\n      <th>Age</th>\n      <th>VIP</th>\n      <th>RoomService</th>\n      <th>FoodCourt</th>\n      <th>ShoppingMall</th>\n      <th>Spa</th>\n      <th>VRDeck</th>\n      <th>Transported</th>\n    </tr>\n  </thead>\n  <tbody>\n    <tr>\n      <th>0</th>\n      <td>0001_01</td>\n      <td>1</td>\n      <td>0</td>\n      <td>B/0/P</td>\n      <td>TRAPPIST-1e</td>\n      <td>39.0</td>\n      <td>0</td>\n      <td>0.0</td>\n      <td>0.0</td>\n      <td>0.0</td>\n      <td>0.0</td>\n      <td>0.0</td>\n      <td>0</td>\n    </tr>\n    <tr>\n      <th>1</th>\n      <td>0002_01</td>\n      <td>0</td>\n      <td>0</td>\n      <td>F/0/S</td>\n      <td>TRAPPIST-1e</td>\n      <td>24.0</td>\n      <td>0</td>\n      <td>109.0</td>\n      <td>9.0</td>\n      <td>25.0</td>\n      <td>549.0</td>\n      <td>44.0</td>\n      <td>1</td>\n    </tr>\n    <tr>\n      <th>2</th>\n      <td>0003_01</td>\n      <td>1</td>\n      <td>0</td>\n      <td>A/0/S</td>\n      <td>TRAPPIST-1e</td>\n      <td>58.0</td>\n      <td>1</td>\n      <td>43.0</td>\n      <td>3576.0</td>\n      <td>0.0</td>\n      <td>6715.0</td>\n      <td>49.0</td>\n      <td>0</td>\n    </tr>\n    <tr>\n      <th>3</th>\n      <td>0003_02</td>\n      <td>1</td>\n      <td>0</td>\n      <td>A/0/S</td>\n      <td>TRAPPIST-1e</td>\n      <td>33.0</td>\n      <td>0</td>\n      <td>0.0</td>\n      <td>1283.0</td>\n      <td>371.0</td>\n      <td>3329.0</td>\n      <td>193.0</td>\n      <td>0</td>\n    </tr>\n    <tr>\n      <th>4</th>\n      <td>0004_01</td>\n      <td>0</td>\n      <td>0</td>\n      <td>F/1/S</td>\n      <td>TRAPPIST-1e</td>\n      <td>16.0</td>\n      <td>0</td>\n      <td>303.0</td>\n      <td>70.0</td>\n      <td>151.0</td>\n      <td>565.0</td>\n      <td>2.0</td>\n      <td>1</td>\n    </tr>\n    <tr>\n      <th>...</th>\n      <td>...</td>\n      <td>...</td>\n      <td>...</td>\n      <td>...</td>\n      <td>...</td>\n      <td>...</td>\n      <td>...</td>\n      <td>...</td>\n      <td>...</td>\n      <td>...</td>\n      <td>...</td>\n      <td>...</td>\n      <td>...</td>\n    </tr>\n    <tr>\n      <th>8688</th>\n      <td>9276_01</td>\n      <td>1</td>\n      <td>0</td>\n      <td>A/98/P</td>\n      <td>55 Cancri e</td>\n      <td>41.0</td>\n      <td>1</td>\n      <td>0.0</td>\n      <td>6819.0</td>\n      <td>0.0</td>\n      <td>1643.0</td>\n      <td>74.0</td>\n      <td>0</td>\n    </tr>\n    <tr>\n      <th>8689</th>\n      <td>9278_01</td>\n      <td>0</td>\n      <td>1</td>\n      <td>G/1499/S</td>\n      <td>PSO J318.5-22</td>\n      <td>18.0</td>\n      <td>0</td>\n      <td>0.0</td>\n      <td>0.0</td>\n      <td>0.0</td>\n      <td>0.0</td>\n      <td>0.0</td>\n      <td>0</td>\n    </tr>\n    <tr>\n      <th>8690</th>\n      <td>9279_01</td>\n      <td>0</td>\n      <td>0</td>\n      <td>G/1500/S</td>\n      <td>TRAPPIST-1e</td>\n      <td>26.0</td>\n      <td>0</td>\n      <td>0.0</td>\n      <td>0.0</td>\n      <td>1872.0</td>\n      <td>1.0</td>\n      <td>0.0</td>\n      <td>1</td>\n    </tr>\n    <tr>\n      <th>8691</th>\n      <td>9280_01</td>\n      <td>1</td>\n      <td>0</td>\n      <td>E/608/S</td>\n      <td>55 Cancri e</td>\n      <td>32.0</td>\n      <td>0</td>\n      <td>0.0</td>\n      <td>1049.0</td>\n      <td>0.0</td>\n      <td>353.0</td>\n      <td>3235.0</td>\n      <td>0</td>\n    </tr>\n    <tr>\n      <th>8692</th>\n      <td>9280_02</td>\n      <td>1</td>\n      <td>0</td>\n      <td>E/608/S</td>\n      <td>TRAPPIST-1e</td>\n      <td>44.0</td>\n      <td>0</td>\n      <td>126.0</td>\n      <td>4688.0</td>\n      <td>0.0</td>\n      <td>0.0</td>\n      <td>12.0</td>\n      <td>1</td>\n    </tr>\n  </tbody>\n</table>\n<p>8693 rows × 13 columns</p>\n</div>"
     },
     "execution_count": 14,
     "metadata": {},
     "output_type": "execute_result"
    }
   ],
   "source": [
    "df"
   ],
   "metadata": {
    "collapsed": false,
    "ExecuteTime": {
     "end_time": "2023-10-06T15:11:58.948149Z",
     "start_time": "2023-10-06T15:11:58.741885Z"
    }
   },
   "id": "517a227d68f7a369"
  },
  {
   "cell_type": "code",
   "execution_count": 15,
   "outputs": [],
   "source": [
    "df['Destination'] = label_encoder.fit_transform(df['Destination'])"
   ],
   "metadata": {
    "collapsed": false,
    "ExecuteTime": {
     "end_time": "2023-10-06T15:11:58.948448Z",
     "start_time": "2023-10-06T15:11:58.768309Z"
    }
   },
   "id": "4dc448368383a1cd"
  },
  {
   "cell_type": "code",
   "execution_count": 16,
   "outputs": [],
   "source": [
    "df.drop(\"Cabin\",axis=1,inplace=True)"
   ],
   "metadata": {
    "collapsed": false,
    "ExecuteTime": {
     "end_time": "2023-10-06T15:11:58.948668Z",
     "start_time": "2023-10-06T15:11:58.771811Z"
    }
   },
   "id": "57f59e9d5bc0e47a"
  },
  {
   "cell_type": "code",
   "execution_count": 17,
   "outputs": [],
   "source": [
    "df.dropna(axis=0,inplace=True)"
   ],
   "metadata": {
    "collapsed": false,
    "ExecuteTime": {
     "end_time": "2023-10-06T15:11:58.948758Z",
     "start_time": "2023-10-06T15:11:58.780832Z"
    }
   },
   "id": "3d237b4b8fc36ea"
  },
  {
   "cell_type": "code",
   "execution_count": 18,
   "outputs": [],
   "source": [
    "from sklearn.model_selection import train_test_split"
   ],
   "metadata": {
    "collapsed": false,
    "ExecuteTime": {
     "end_time": "2023-10-06T15:11:58.975405Z",
     "start_time": "2023-10-06T15:11:58.786876Z"
    }
   },
   "id": "26e5dd58e11f377"
  },
  {
   "cell_type": "code",
   "execution_count": 19,
   "outputs": [
    {
     "data": {
      "text/plain": "7620"
     },
     "execution_count": 19,
     "metadata": {},
     "output_type": "execute_result"
    }
   ],
   "source": [
    "X = df.drop('Transported',axis=1)\n",
    "y = df['Transported']\n",
    "len(y)\n"
   ],
   "metadata": {
    "collapsed": false,
    "ExecuteTime": {
     "end_time": "2023-10-06T15:11:58.993396Z",
     "start_time": "2023-10-06T15:11:58.902768Z"
    }
   },
   "id": "6038b1b24ead7703"
  },
  {
   "cell_type": "code",
   "execution_count": 20,
   "outputs": [],
   "source": [
    "X_train, X_test, y_train, y_test = train_test_split(X, y, test_size=0.3, random_state=42)"
   ],
   "metadata": {
    "collapsed": false,
    "ExecuteTime": {
     "end_time": "2023-10-06T15:11:58.993657Z",
     "start_time": "2023-10-06T15:11:58.911486Z"
    }
   },
   "id": "c08e4656ee0baace"
  },
  {
   "cell_type": "code",
   "execution_count": 21,
   "outputs": [],
   "source": [
    "from sklearn.linear_model import LogisticRegression "
   ],
   "metadata": {
    "collapsed": false,
    "ExecuteTime": {
     "end_time": "2023-10-06T15:11:59.186078Z",
     "start_time": "2023-10-06T15:11:58.920688Z"
    }
   },
   "id": "a7fed5434ba008af"
  },
  {
   "cell_type": "code",
   "execution_count": 22,
   "outputs": [],
   "source": [
    "lr = LogisticRegression()"
   ],
   "metadata": {
    "collapsed": false,
    "ExecuteTime": {
     "end_time": "2023-10-06T15:11:59.199983Z",
     "start_time": "2023-10-06T15:11:59.034121Z"
    }
   },
   "id": "b88c1b0cea6c2d92"
  },
  {
   "cell_type": "code",
   "execution_count": 23,
   "outputs": [
    {
     "data": {
      "text/plain": "LogisticRegression()",
      "text/html": "<style>#sk-container-id-1 {color: black;}#sk-container-id-1 pre{padding: 0;}#sk-container-id-1 div.sk-toggleable {background-color: white;}#sk-container-id-1 label.sk-toggleable__label {cursor: pointer;display: block;width: 100%;margin-bottom: 0;padding: 0.3em;box-sizing: border-box;text-align: center;}#sk-container-id-1 label.sk-toggleable__label-arrow:before {content: \"▸\";float: left;margin-right: 0.25em;color: #696969;}#sk-container-id-1 label.sk-toggleable__label-arrow:hover:before {color: black;}#sk-container-id-1 div.sk-estimator:hover label.sk-toggleable__label-arrow:before {color: black;}#sk-container-id-1 div.sk-toggleable__content {max-height: 0;max-width: 0;overflow: hidden;text-align: left;background-color: #f0f8ff;}#sk-container-id-1 div.sk-toggleable__content pre {margin: 0.2em;color: black;border-radius: 0.25em;background-color: #f0f8ff;}#sk-container-id-1 input.sk-toggleable__control:checked~div.sk-toggleable__content {max-height: 200px;max-width: 100%;overflow: auto;}#sk-container-id-1 input.sk-toggleable__control:checked~label.sk-toggleable__label-arrow:before {content: \"▾\";}#sk-container-id-1 div.sk-estimator input.sk-toggleable__control:checked~label.sk-toggleable__label {background-color: #d4ebff;}#sk-container-id-1 div.sk-label input.sk-toggleable__control:checked~label.sk-toggleable__label {background-color: #d4ebff;}#sk-container-id-1 input.sk-hidden--visually {border: 0;clip: rect(1px 1px 1px 1px);clip: rect(1px, 1px, 1px, 1px);height: 1px;margin: -1px;overflow: hidden;padding: 0;position: absolute;width: 1px;}#sk-container-id-1 div.sk-estimator {font-family: monospace;background-color: #f0f8ff;border: 1px dotted black;border-radius: 0.25em;box-sizing: border-box;margin-bottom: 0.5em;}#sk-container-id-1 div.sk-estimator:hover {background-color: #d4ebff;}#sk-container-id-1 div.sk-parallel-item::after {content: \"\";width: 100%;border-bottom: 1px solid gray;flex-grow: 1;}#sk-container-id-1 div.sk-label:hover label.sk-toggleable__label {background-color: #d4ebff;}#sk-container-id-1 div.sk-serial::before {content: \"\";position: absolute;border-left: 1px solid gray;box-sizing: border-box;top: 0;bottom: 0;left: 50%;z-index: 0;}#sk-container-id-1 div.sk-serial {display: flex;flex-direction: column;align-items: center;background-color: white;padding-right: 0.2em;padding-left: 0.2em;position: relative;}#sk-container-id-1 div.sk-item {position: relative;z-index: 1;}#sk-container-id-1 div.sk-parallel {display: flex;align-items: stretch;justify-content: center;background-color: white;position: relative;}#sk-container-id-1 div.sk-item::before, #sk-container-id-1 div.sk-parallel-item::before {content: \"\";position: absolute;border-left: 1px solid gray;box-sizing: border-box;top: 0;bottom: 0;left: 50%;z-index: -1;}#sk-container-id-1 div.sk-parallel-item {display: flex;flex-direction: column;z-index: 1;position: relative;background-color: white;}#sk-container-id-1 div.sk-parallel-item:first-child::after {align-self: flex-end;width: 50%;}#sk-container-id-1 div.sk-parallel-item:last-child::after {align-self: flex-start;width: 50%;}#sk-container-id-1 div.sk-parallel-item:only-child::after {width: 0;}#sk-container-id-1 div.sk-dashed-wrapped {border: 1px dashed gray;margin: 0 0.4em 0.5em 0.4em;box-sizing: border-box;padding-bottom: 0.4em;background-color: white;}#sk-container-id-1 div.sk-label label {font-family: monospace;font-weight: bold;display: inline-block;line-height: 1.2em;}#sk-container-id-1 div.sk-label-container {text-align: center;}#sk-container-id-1 div.sk-container {/* jupyter's `normalize.less` sets `[hidden] { display: none; }` but bootstrap.min.css set `[hidden] { display: none !important; }` so we also need the `!important` here to be able to override the default hidden behavior on the sphinx rendered scikit-learn.org. See: https://github.com/scikit-learn/scikit-learn/issues/21755 */display: inline-block !important;position: relative;}#sk-container-id-1 div.sk-text-repr-fallback {display: none;}</style><div id=\"sk-container-id-1\" class=\"sk-top-container\"><div class=\"sk-text-repr-fallback\"><pre>LogisticRegression()</pre><b>In a Jupyter environment, please rerun this cell to show the HTML representation or trust the notebook. <br />On GitHub, the HTML representation is unable to render, please try loading this page with nbviewer.org.</b></div><div class=\"sk-container\" hidden><div class=\"sk-item\"><div class=\"sk-estimator sk-toggleable\"><input class=\"sk-toggleable__control sk-hidden--visually\" id=\"sk-estimator-id-1\" type=\"checkbox\" checked><label for=\"sk-estimator-id-1\" class=\"sk-toggleable__label sk-toggleable__label-arrow\">LogisticRegression</label><div class=\"sk-toggleable__content\"><pre>LogisticRegression()</pre></div></div></div></div></div>"
     },
     "execution_count": 23,
     "metadata": {},
     "output_type": "execute_result"
    }
   ],
   "source": [
    "lr.fit(X_train,y_train)"
   ],
   "metadata": {
    "collapsed": false,
    "ExecuteTime": {
     "end_time": "2023-10-06T15:11:59.202032Z",
     "start_time": "2023-10-06T15:11:59.043866Z"
    }
   },
   "id": "823a1557859d69d6"
  },
  {
   "cell_type": "code",
   "execution_count": 24,
   "outputs": [],
   "source": [
    "predictions = lr.predict(X_test)"
   ],
   "metadata": {
    "collapsed": false,
    "ExecuteTime": {
     "end_time": "2023-10-06T15:11:59.221331Z",
     "start_time": "2023-10-06T15:11:59.103639Z"
    }
   },
   "id": "a0fac36926357ad5"
  },
  {
   "cell_type": "code",
   "execution_count": 25,
   "outputs": [],
   "source": [
    "from sklearn.metrics import classification_report"
   ],
   "metadata": {
    "collapsed": false,
    "ExecuteTime": {
     "end_time": "2023-10-06T15:11:59.221865Z",
     "start_time": "2023-10-06T15:11:59.111363Z"
    }
   },
   "id": "6c82e72b35ee065f"
  },
  {
   "cell_type": "code",
   "execution_count": 26,
   "outputs": [
    {
     "name": "stdout",
     "output_type": "stream",
     "text": [
      "              precision    recall  f1-score   support\n",
      "\n",
      "           0       0.87      0.70      0.77      1137\n",
      "           1       0.75      0.90      0.82      1149\n",
      "\n",
      "    accuracy                           0.80      2286\n",
      "   macro avg       0.81      0.80      0.80      2286\n",
      "weighted avg       0.81      0.80      0.80      2286\n"
     ]
    }
   ],
   "source": [
    "print(classification_report(y_test,predictions))"
   ],
   "metadata": {
    "collapsed": false,
    "ExecuteTime": {
     "end_time": "2023-10-06T15:11:59.308614Z",
     "start_time": "2023-10-06T15:11:59.117225Z"
    }
   },
   "id": "7e6ed65596f9478a"
  },
  {
   "cell_type": "code",
   "execution_count": 27,
   "outputs": [],
   "source": [
    "test = pd.read_csv('test.csv')"
   ],
   "metadata": {
    "collapsed": false,
    "ExecuteTime": {
     "end_time": "2023-10-06T15:11:59.308887Z",
     "start_time": "2023-10-06T15:11:59.134367Z"
    }
   },
   "id": "b851b340675cc3d0"
  },
  {
   "cell_type": "code",
   "execution_count": 28,
   "outputs": [],
   "source": [
    "model = lr"
   ],
   "metadata": {
    "collapsed": false,
    "ExecuteTime": {
     "end_time": "2023-10-06T15:11:59.309730Z",
     "start_time": "2023-10-06T15:11:59.158322Z"
    }
   },
   "id": "79f571bf81475ce5"
  },
  {
   "cell_type": "code",
   "execution_count": 29,
   "outputs": [],
   "source": [
    "features = model.feature_names_in_.tolist()"
   ],
   "metadata": {
    "collapsed": false,
    "ExecuteTime": {
     "end_time": "2023-10-06T15:11:59.309923Z",
     "start_time": "2023-10-06T15:11:59.163565Z"
    }
   },
   "id": "dfddcc7dc7b0aa59"
  },
  {
   "cell_type": "code",
   "execution_count": 30,
   "outputs": [
    {
     "data": {
      "text/plain": "['PassengerId',\n 'HomePlanet',\n 'CryoSleep',\n 'Destination',\n 'Age',\n 'VIP',\n 'RoomService',\n 'FoodCourt',\n 'ShoppingMall',\n 'Spa',\n 'VRDeck']"
     },
     "execution_count": 30,
     "metadata": {},
     "output_type": "execute_result"
    }
   ],
   "source": [
    "features"
   ],
   "metadata": {
    "collapsed": false,
    "ExecuteTime": {
     "end_time": "2023-10-06T15:11:59.310262Z",
     "start_time": "2023-10-06T15:11:59.169280Z"
    }
   },
   "id": "913817c1b96a5722"
  },
  {
   "cell_type": "code",
   "execution_count": 31,
   "outputs": [
    {
     "data": {
      "text/plain": "  PassengerId HomePlanet CryoSleep  Cabin  Destination   Age    VIP  \\\n0     0013_01      Earth      True  G/3/S  TRAPPIST-1e  27.0  False   \n1     0018_01      Earth     False  F/4/S  TRAPPIST-1e  19.0  False   \n2     0019_01     Europa      True  C/0/S  55 Cancri e  31.0  False   \n3     0021_01     Europa     False  C/1/S  TRAPPIST-1e  38.0  False   \n4     0023_01      Earth     False  F/5/S  TRAPPIST-1e  20.0  False   \n\n   RoomService  FoodCourt  ShoppingMall     Spa  VRDeck              Name  \n0          0.0        0.0           0.0     0.0     0.0   Nelly Carsoning  \n1          0.0        9.0           0.0  2823.0     0.0    Lerome Peckers  \n2          0.0        0.0           0.0     0.0     0.0   Sabih Unhearfus  \n3          0.0     6652.0           0.0   181.0   585.0  Meratz Caltilter  \n4         10.0        0.0         635.0     0.0     0.0   Brence Harperez  ",
      "text/html": "<div>\n<style scoped>\n    .dataframe tbody tr th:only-of-type {\n        vertical-align: middle;\n    }\n\n    .dataframe tbody tr th {\n        vertical-align: top;\n    }\n\n    .dataframe thead th {\n        text-align: right;\n    }\n</style>\n<table border=\"1\" class=\"dataframe\">\n  <thead>\n    <tr style=\"text-align: right;\">\n      <th></th>\n      <th>PassengerId</th>\n      <th>HomePlanet</th>\n      <th>CryoSleep</th>\n      <th>Cabin</th>\n      <th>Destination</th>\n      <th>Age</th>\n      <th>VIP</th>\n      <th>RoomService</th>\n      <th>FoodCourt</th>\n      <th>ShoppingMall</th>\n      <th>Spa</th>\n      <th>VRDeck</th>\n      <th>Name</th>\n    </tr>\n  </thead>\n  <tbody>\n    <tr>\n      <th>0</th>\n      <td>0013_01</td>\n      <td>Earth</td>\n      <td>True</td>\n      <td>G/3/S</td>\n      <td>TRAPPIST-1e</td>\n      <td>27.0</td>\n      <td>False</td>\n      <td>0.0</td>\n      <td>0.0</td>\n      <td>0.0</td>\n      <td>0.0</td>\n      <td>0.0</td>\n      <td>Nelly Carsoning</td>\n    </tr>\n    <tr>\n      <th>1</th>\n      <td>0018_01</td>\n      <td>Earth</td>\n      <td>False</td>\n      <td>F/4/S</td>\n      <td>TRAPPIST-1e</td>\n      <td>19.0</td>\n      <td>False</td>\n      <td>0.0</td>\n      <td>9.0</td>\n      <td>0.0</td>\n      <td>2823.0</td>\n      <td>0.0</td>\n      <td>Lerome Peckers</td>\n    </tr>\n    <tr>\n      <th>2</th>\n      <td>0019_01</td>\n      <td>Europa</td>\n      <td>True</td>\n      <td>C/0/S</td>\n      <td>55 Cancri e</td>\n      <td>31.0</td>\n      <td>False</td>\n      <td>0.0</td>\n      <td>0.0</td>\n      <td>0.0</td>\n      <td>0.0</td>\n      <td>0.0</td>\n      <td>Sabih Unhearfus</td>\n    </tr>\n    <tr>\n      <th>3</th>\n      <td>0021_01</td>\n      <td>Europa</td>\n      <td>False</td>\n      <td>C/1/S</td>\n      <td>TRAPPIST-1e</td>\n      <td>38.0</td>\n      <td>False</td>\n      <td>0.0</td>\n      <td>6652.0</td>\n      <td>0.0</td>\n      <td>181.0</td>\n      <td>585.0</td>\n      <td>Meratz Caltilter</td>\n    </tr>\n    <tr>\n      <th>4</th>\n      <td>0023_01</td>\n      <td>Earth</td>\n      <td>False</td>\n      <td>F/5/S</td>\n      <td>TRAPPIST-1e</td>\n      <td>20.0</td>\n      <td>False</td>\n      <td>10.0</td>\n      <td>0.0</td>\n      <td>635.0</td>\n      <td>0.0</td>\n      <td>0.0</td>\n      <td>Brence Harperez</td>\n    </tr>\n  </tbody>\n</table>\n</div>"
     },
     "execution_count": 31,
     "metadata": {},
     "output_type": "execute_result"
    }
   ],
   "source": [
    "test.head()"
   ],
   "metadata": {
    "collapsed": false,
    "ExecuteTime": {
     "end_time": "2023-10-06T15:11:59.350021Z",
     "start_time": "2023-10-06T15:11:59.186788Z"
    }
   },
   "id": "b118ffc770c8d17e"
  },
  {
   "cell_type": "code",
   "execution_count": 32,
   "outputs": [
    {
     "data": {
      "text/plain": "['PassengerId',\n 'HomePlanet',\n 'CryoSleep',\n 'Destination',\n 'Age',\n 'VIP',\n 'RoomService',\n 'FoodCourt',\n 'ShoppingMall',\n 'Spa',\n 'VRDeck']"
     },
     "execution_count": 32,
     "metadata": {},
     "output_type": "execute_result"
    }
   ],
   "source": [
    "test = test[features]\n",
    "features"
   ],
   "metadata": {
    "collapsed": false,
    "ExecuteTime": {
     "end_time": "2023-10-06T15:11:59.350301Z",
     "start_time": "2023-10-06T15:11:59.193950Z"
    }
   },
   "id": "81a68e032d2447af"
  },
  {
   "cell_type": "code",
   "execution_count": 33,
   "outputs": [
    {
     "data": {
      "text/plain": "  PassengerId HomePlanet CryoSleep  Destination   Age    VIP  RoomService  \\\n0     0013_01      Earth      True  TRAPPIST-1e  27.0  False          0.0   \n1     0018_01      Earth     False  TRAPPIST-1e  19.0  False          0.0   \n2     0019_01     Europa      True  55 Cancri e  31.0  False          0.0   \n3     0021_01     Europa     False  TRAPPIST-1e  38.0  False          0.0   \n4     0023_01      Earth     False  TRAPPIST-1e  20.0  False         10.0   \n\n   FoodCourt  ShoppingMall     Spa  VRDeck  \n0        0.0           0.0     0.0     0.0  \n1        9.0           0.0  2823.0     0.0  \n2        0.0           0.0     0.0     0.0  \n3     6652.0           0.0   181.0   585.0  \n4        0.0         635.0     0.0     0.0  ",
      "text/html": "<div>\n<style scoped>\n    .dataframe tbody tr th:only-of-type {\n        vertical-align: middle;\n    }\n\n    .dataframe tbody tr th {\n        vertical-align: top;\n    }\n\n    .dataframe thead th {\n        text-align: right;\n    }\n</style>\n<table border=\"1\" class=\"dataframe\">\n  <thead>\n    <tr style=\"text-align: right;\">\n      <th></th>\n      <th>PassengerId</th>\n      <th>HomePlanet</th>\n      <th>CryoSleep</th>\n      <th>Destination</th>\n      <th>Age</th>\n      <th>VIP</th>\n      <th>RoomService</th>\n      <th>FoodCourt</th>\n      <th>ShoppingMall</th>\n      <th>Spa</th>\n      <th>VRDeck</th>\n    </tr>\n  </thead>\n  <tbody>\n    <tr>\n      <th>0</th>\n      <td>0013_01</td>\n      <td>Earth</td>\n      <td>True</td>\n      <td>TRAPPIST-1e</td>\n      <td>27.0</td>\n      <td>False</td>\n      <td>0.0</td>\n      <td>0.0</td>\n      <td>0.0</td>\n      <td>0.0</td>\n      <td>0.0</td>\n    </tr>\n    <tr>\n      <th>1</th>\n      <td>0018_01</td>\n      <td>Earth</td>\n      <td>False</td>\n      <td>TRAPPIST-1e</td>\n      <td>19.0</td>\n      <td>False</td>\n      <td>0.0</td>\n      <td>9.0</td>\n      <td>0.0</td>\n      <td>2823.0</td>\n      <td>0.0</td>\n    </tr>\n    <tr>\n      <th>2</th>\n      <td>0019_01</td>\n      <td>Europa</td>\n      <td>True</td>\n      <td>55 Cancri e</td>\n      <td>31.0</td>\n      <td>False</td>\n      <td>0.0</td>\n      <td>0.0</td>\n      <td>0.0</td>\n      <td>0.0</td>\n      <td>0.0</td>\n    </tr>\n    <tr>\n      <th>3</th>\n      <td>0021_01</td>\n      <td>Europa</td>\n      <td>False</td>\n      <td>TRAPPIST-1e</td>\n      <td>38.0</td>\n      <td>False</td>\n      <td>0.0</td>\n      <td>6652.0</td>\n      <td>0.0</td>\n      <td>181.0</td>\n      <td>585.0</td>\n    </tr>\n    <tr>\n      <th>4</th>\n      <td>0023_01</td>\n      <td>Earth</td>\n      <td>False</td>\n      <td>TRAPPIST-1e</td>\n      <td>20.0</td>\n      <td>False</td>\n      <td>10.0</td>\n      <td>0.0</td>\n      <td>635.0</td>\n      <td>0.0</td>\n      <td>0.0</td>\n    </tr>\n  </tbody>\n</table>\n</div>"
     },
     "execution_count": 33,
     "metadata": {},
     "output_type": "execute_result"
    }
   ],
   "source": [
    "test.head()"
   ],
   "metadata": {
    "collapsed": false,
    "ExecuteTime": {
     "end_time": "2023-10-06T15:11:59.485079Z",
     "start_time": "2023-10-06T15:11:59.198995Z"
    }
   },
   "id": "f214fc9b90469bd5"
  },
  {
   "cell_type": "code",
   "execution_count": 34,
   "outputs": [],
   "source": [
    "test.dropna(inplace=True)"
   ],
   "metadata": {
    "collapsed": false,
    "ExecuteTime": {
     "end_time": "2023-10-06T15:11:59.488188Z",
     "start_time": "2023-10-06T15:11:59.217790Z"
    }
   },
   "id": "446f8897900c1f8d"
  },
  {
   "cell_type": "code",
   "execution_count": 35,
   "outputs": [],
   "source": [
    "test['CryoSleep'] = test['CryoSleep'].astype(int)\n",
    "test['VIP'] = test['VIP'].astype(int)"
   ],
   "metadata": {
    "collapsed": false,
    "ExecuteTime": {
     "end_time": "2023-10-06T15:11:59.505529Z",
     "start_time": "2023-10-06T15:11:59.226075Z"
    }
   },
   "id": "6c1c591cec411b15"
  },
  {
   "cell_type": "code",
   "execution_count": 36,
   "outputs": [],
   "source": [
    "test['HomePlanet'] = label_encoder.fit_transform(test['HomePlanet'])"
   ],
   "metadata": {
    "collapsed": false,
    "ExecuteTime": {
     "end_time": "2023-10-06T15:11:59.506082Z",
     "start_time": "2023-10-06T15:11:59.233844Z"
    }
   },
   "id": "9b6c2751dc4a9754"
  },
  {
   "cell_type": "code",
   "execution_count": 46,
   "outputs": [],
   "source": [
    "test['Destination'] = label_encoder.fit_transform(test['Destination'])"
   ],
   "metadata": {
    "collapsed": false,
    "ExecuteTime": {
     "end_time": "2023-10-06T15:13:33.056520Z",
     "start_time": "2023-10-06T15:13:33.035500Z"
    }
   },
   "id": "c05c899d5870f417"
  },
  {
   "cell_type": "code",
   "execution_count": 38,
   "outputs": [],
   "source": [
    "submission = pd.DataFrame()"
   ],
   "metadata": {
    "collapsed": false,
    "ExecuteTime": {
     "end_time": "2023-10-06T15:11:59.506719Z",
     "start_time": "2023-10-06T15:11:59.244356Z"
    }
   },
   "id": "ed52e4d234448ec5"
  },
  {
   "cell_type": "code",
   "execution_count": 39,
   "outputs": [],
   "source": [
    "submission['PassengerId'] = test['PassengerId']"
   ],
   "metadata": {
    "collapsed": false,
    "ExecuteTime": {
     "end_time": "2023-10-06T15:11:59.507297Z",
     "start_time": "2023-10-06T15:11:59.250570Z"
    }
   },
   "id": "d1e8771956356b4b"
  },
  {
   "cell_type": "code",
   "execution_count": 40,
   "outputs": [],
   "source": [
    "submission['Transported'] = model.predict(test)"
   ],
   "metadata": {
    "collapsed": false,
    "ExecuteTime": {
     "end_time": "2023-10-06T15:11:59.507674Z",
     "start_time": "2023-10-06T15:11:59.257031Z"
    }
   },
   "id": "be0e5bcb49c29802"
  },
  {
   "cell_type": "code",
   "execution_count": 41,
   "outputs": [
    {
     "data": {
      "text/plain": "  PassengerId  Transported\n0     0013_01            1\n1     0018_01            0\n2     0019_01            1\n3     0021_01            1\n4     0023_01            1",
      "text/html": "<div>\n<style scoped>\n    .dataframe tbody tr th:only-of-type {\n        vertical-align: middle;\n    }\n\n    .dataframe tbody tr th {\n        vertical-align: top;\n    }\n\n    .dataframe thead th {\n        text-align: right;\n    }\n</style>\n<table border=\"1\" class=\"dataframe\">\n  <thead>\n    <tr style=\"text-align: right;\">\n      <th></th>\n      <th>PassengerId</th>\n      <th>Transported</th>\n    </tr>\n  </thead>\n  <tbody>\n    <tr>\n      <th>0</th>\n      <td>0013_01</td>\n      <td>1</td>\n    </tr>\n    <tr>\n      <th>1</th>\n      <td>0018_01</td>\n      <td>0</td>\n    </tr>\n    <tr>\n      <th>2</th>\n      <td>0019_01</td>\n      <td>1</td>\n    </tr>\n    <tr>\n      <th>3</th>\n      <td>0021_01</td>\n      <td>1</td>\n    </tr>\n    <tr>\n      <th>4</th>\n      <td>0023_01</td>\n      <td>1</td>\n    </tr>\n  </tbody>\n</table>\n</div>"
     },
     "execution_count": 41,
     "metadata": {},
     "output_type": "execute_result"
    }
   ],
   "source": [
    "submission.head(\n",
    ")"
   ],
   "metadata": {
    "collapsed": false,
    "ExecuteTime": {
     "end_time": "2023-10-06T15:11:59.552647Z",
     "start_time": "2023-10-06T15:11:59.268274Z"
    }
   },
   "id": "2d1f1e98e6e3496b"
  },
  {
   "cell_type": "code",
   "execution_count": 42,
   "outputs": [],
   "source": [
    "submission.to_csv('submission.csv',index=False)"
   ],
   "metadata": {
    "collapsed": false,
    "ExecuteTime": {
     "end_time": "2023-10-06T15:11:59.598891Z",
     "start_time": "2023-10-06T15:11:59.285809Z"
    }
   },
   "id": "eaa2bddd5863192"
  },
  {
   "cell_type": "code",
   "execution_count": 42,
   "outputs": [],
   "source": [],
   "metadata": {
    "collapsed": false,
    "ExecuteTime": {
     "end_time": "2023-10-06T15:11:59.599113Z",
     "start_time": "2023-10-06T15:11:59.296201Z"
    }
   },
   "id": "24e3ff4668e8e8fa"
  }
 ],
 "metadata": {
  "kernelspec": {
   "display_name": "Python 3",
   "language": "python",
   "name": "python3"
  },
  "language_info": {
   "codemirror_mode": {
    "name": "ipython",
    "version": 2
   },
   "file_extension": ".py",
   "mimetype": "text/x-python",
   "name": "python",
   "nbconvert_exporter": "python",
   "pygments_lexer": "ipython2",
   "version": "2.7.6"
  }
 },
 "nbformat": 4,
 "nbformat_minor": 5
}
